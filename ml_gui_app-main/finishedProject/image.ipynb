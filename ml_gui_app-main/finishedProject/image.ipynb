{
 "cells": [
  {
   "cell_type": "code",
   "execution_count": null,
   "id": "efb4df46-1b82-4e14-bb04-dbfdb3ab8017",
   "metadata": {},
   "outputs": [
    {
     "name": "stderr",
     "output_type": "stream",
     "text": [
      "INFO:     Started server process [2752]\n",
      "INFO:     Waiting for application startup.\n",
      "INFO:     Application startup complete.\n",
      "INFO:     Uvicorn running on http://0.0.0.0:5001 (Press CTRL+C to quit)\n"
     ]
    },
    {
     "name": "stdout",
     "output_type": "stream",
     "text": [
      "INFO:     127.0.0.1:51564 - \"GET /docs HTTP/1.1\" 200 OK\n",
      "INFO:     127.0.0.1:51564 - \"GET /openapi.json HTTP/1.1\" 200 OK\n",
      "\u001b[1m1/1\u001b[0m \u001b[32m━━━━━━━━━━━━━━━━━━━━\u001b[0m\u001b[37m\u001b[0m \u001b[1m0s\u001b[0m 81ms/step\n",
      "INFO:     127.0.0.1:51572 - \"POST /predict HTTP/1.1\" 200 OK\n",
      "\u001b[1m1/1\u001b[0m \u001b[32m━━━━━━━━━━━━━━━━━━━━\u001b[0m\u001b[37m\u001b[0m \u001b[1m0s\u001b[0m 17ms/step\n",
      "INFO:     127.0.0.1:51572 - \"POST /predict HTTP/1.1\" 200 OK\n",
      "\u001b[1m1/1\u001b[0m \u001b[32m━━━━━━━━━━━━━━━━━━━━\u001b[0m\u001b[37m\u001b[0m \u001b[1m0s\u001b[0m 24ms/step\n",
      "INFO:     127.0.0.1:51572 - \"POST /predict HTTP/1.1\" 200 OK\n",
      "\u001b[1m1/1\u001b[0m \u001b[32m━━━━━━━━━━━━━━━━━━━━\u001b[0m\u001b[37m\u001b[0m \u001b[1m0s\u001b[0m 31ms/step\n",
      "INFO:     127.0.0.1:51572 - \"POST /predict HTTP/1.1\" 200 OK\n",
      "\u001b[1m1/1\u001b[0m \u001b[32m━━━━━━━━━━━━━━━━━━━━\u001b[0m\u001b[37m\u001b[0m \u001b[1m0s\u001b[0m 16ms/step\n",
      "INFO:     127.0.0.1:51572 - \"POST /predict HTTP/1.1\" 200 OK\n",
      "\u001b[1m1/1\u001b[0m \u001b[32m━━━━━━━━━━━━━━━━━━━━\u001b[0m\u001b[37m\u001b[0m \u001b[1m0s\u001b[0m 13ms/step\n",
      "INFO:     127.0.0.1:51572 - \"POST /predict HTTP/1.1\" 200 OK\n",
      "INFO:     127.0.0.1:51563 - \"GET /docs HTTP/1.1\" 200 OK\n",
      "INFO:     127.0.0.1:51563 - \"GET /openapi.json HTTP/1.1\" 200 OK\n",
      "\u001b[1m1/1\u001b[0m \u001b[32m━━━━━━━━━━━━━━━━━━━━\u001b[0m\u001b[37m\u001b[0m \u001b[1m0s\u001b[0m 16ms/step\n",
      "INFO:     127.0.0.1:51603 - \"POST /predict HTTP/1.1\" 200 OK\n",
      "\u001b[1m1/1\u001b[0m \u001b[32m━━━━━━━━━━━━━━━━━━━━\u001b[0m\u001b[37m\u001b[0m \u001b[1m0s\u001b[0m 31ms/step\n",
      "INFO:     127.0.0.1:51603 - \"POST /predict HTTP/1.1\" 200 OK\n",
      "\u001b[1m1/1\u001b[0m \u001b[32m━━━━━━━━━━━━━━━━━━━━\u001b[0m\u001b[37m\u001b[0m \u001b[1m0s\u001b[0m 16ms/step\n",
      "INFO:     127.0.0.1:51603 - \"POST /predict HTTP/1.1\" 200 OK\n",
      "\u001b[1m1/1\u001b[0m \u001b[32m━━━━━━━━━━━━━━━━━━━━\u001b[0m\u001b[37m\u001b[0m \u001b[1m0s\u001b[0m 16ms/step\n",
      "INFO:     127.0.0.1:51607 - \"POST /predict HTTP/1.1\" 200 OK\n",
      "\u001b[1m1/1\u001b[0m \u001b[32m━━━━━━━━━━━━━━━━━━━━\u001b[0m\u001b[37m\u001b[0m \u001b[1m0s\u001b[0m 16ms/step\n",
      "INFO:     127.0.0.1:51607 - \"POST /predict HTTP/1.1\" 200 OK\n",
      "\u001b[1m1/1\u001b[0m \u001b[32m━━━━━━━━━━━━━━━━━━━━\u001b[0m\u001b[37m\u001b[0m \u001b[1m0s\u001b[0m 16ms/step\n",
      "INFO:     127.0.0.1:51607 - \"POST /predict HTTP/1.1\" 200 OK\n",
      "\u001b[1m1/1\u001b[0m \u001b[32m━━━━━━━━━━━━━━━━━━━━\u001b[0m\u001b[37m\u001b[0m \u001b[1m0s\u001b[0m 12ms/step\n",
      "INFO:     127.0.0.1:51607 - \"POST /predict HTTP/1.1\" 200 OK\n",
      "\u001b[1m1/1\u001b[0m \u001b[32m━━━━━━━━━━━━━━━━━━━━\u001b[0m\u001b[37m\u001b[0m \u001b[1m0s\u001b[0m 16ms/step\n",
      "INFO:     127.0.0.1:51619 - \"POST /predict HTTP/1.1\" 200 OK\n",
      "\u001b[1m1/1\u001b[0m \u001b[32m━━━━━━━━━━━━━━━━━━━━\u001b[0m\u001b[37m\u001b[0m \u001b[1m0s\u001b[0m 16ms/step\n",
      "INFO:     127.0.0.1:51619 - \"POST /predict HTTP/1.1\" 200 OK\n",
      "\u001b[1m1/1\u001b[0m \u001b[32m━━━━━━━━━━━━━━━━━━━━\u001b[0m\u001b[37m\u001b[0m \u001b[1m0s\u001b[0m 16ms/step\n",
      "INFO:     127.0.0.1:51619 - \"POST /predict HTTP/1.1\" 200 OK\n",
      "\u001b[1m1/1\u001b[0m \u001b[32m━━━━━━━━━━━━━━━━━━━━\u001b[0m\u001b[37m\u001b[0m \u001b[1m0s\u001b[0m 17ms/step\n",
      "INFO:     127.0.0.1:51619 - \"POST /predict HTTP/1.1\" 200 OK\n",
      "\u001b[1m1/1\u001b[0m \u001b[32m━━━━━━━━━━━━━━━━━━━━\u001b[0m\u001b[37m\u001b[0m \u001b[1m0s\u001b[0m 25ms/step\n",
      "INFO:     127.0.0.1:51620 - \"POST /predict HTTP/1.1\" 200 OK\n"
     ]
    }
   ],
   "source": [
    "import uvicorn\n",
    "import nest_asyncio\n",
    "import asyncio\n",
    "from fastapi import FastAPI, File, UploadFile\n",
    "from fastapi.middleware.cors import CORSMiddleware\n",
    "from tensorflow.keras import models\n",
    "from PIL import Image\n",
    "import numpy as np\n",
    "import threading\n",
    "\n",
    "# Fix for event loop issues in notebooks\n",
    "nest_asyncio.apply()\n",
    "\n",
    "class_names = {\n",
    "    0: 'airplane',\n",
    "    1: 'automobile',\n",
    "    2: 'bird',\n",
    "    3: 'cat',\n",
    "    4: 'deer',\n",
    "    5: 'dog',\n",
    "    6: 'frog',\n",
    "    7: 'horse',\n",
    "    8: 'ship',\n",
    "    9: 'truck',\n",
    "}\n",
    "\n",
    "# Load the model\n",
    "model = models.load_model(\"baseline.keras\")\n",
    "\n",
    "app = FastAPI()\n",
    "\n",
    "# Add CORS middleware\n",
    "app.add_middleware(\n",
    "    CORSMiddleware,\n",
    "    allow_origins=[\"*\"],  # Adjust this as needed for security\n",
    "    allow_credentials=True,\n",
    "    allow_methods=[\"*\"],\n",
    "    allow_headers=[\"*\"],\n",
    ")\n",
    "\n",
    "def predict_image(model, img):\n",
    "    img = img.convert(\"RGB\")\n",
    "    img = img.resize((32, 32))\n",
    "    data = np.asarray(img)\n",
    "    data = data / 255.0\n",
    "    probs = model.predict(np.array([data])[:1])\n",
    "\n",
    "    top_prob = probs.max()\n",
    "    top_pred = class_names[np.argmax(probs)]\n",
    "    \n",
    "    return top_prob, top_pred\n",
    "\n",
    "@app.post(\"/predict\")\n",
    "async def predict(file: UploadFile = File(...)):\n",
    "    try:\n",
    "        image = Image.open(file.file)\n",
    "        prob, pred = predict_image(model, image)\n",
    "        \n",
    "        return {\n",
    "            \"prediction\": pred,\n",
    "            \"probability\": round(prob * 100, 2)\n",
    "        }\n",
    "    except Exception as e:\n",
    "        return {\"error\": str(e)}\n",
    "\n",
    "# Function to run the FastAPI app in a separate thread\n",
    "def run_app():\n",
    "    uvicorn.run(app, host=\"0.0.0.0\", port=5001)\n",
    "\n",
    "# Start the FastAPI app in a background thread\n",
    "if __name__ == \"__main__\":\n",
    "    thread = threading.Thread(target=run_app, daemon=True)\n",
    "    thread.start()\n"
   ]
  },
  {
   "cell_type": "code",
   "execution_count": 2,
   "id": "dd7ebf05-d0f9-4d44-a2c6-ced60f493abf",
   "metadata": {},
   "outputs": [
    {
     "ename": "SyntaxError",
     "evalue": "invalid syntax (3806392515.py, line 1)",
     "output_type": "error",
     "traceback": [
      "\u001b[1;36m  Cell \u001b[1;32mIn[2], line 1\u001b[1;36m\u001b[0m\n\u001b[1;33m    http://127.0.0.1:5001/docs\u001b[0m\n\u001b[1;37m         ^\u001b[0m\n\u001b[1;31mSyntaxError\u001b[0m\u001b[1;31m:\u001b[0m invalid syntax\n"
     ]
    }
   ],
   "source": [
    "http://127.0.0.1:5001/docs"
   ]
  },
  {
   "cell_type": "code",
   "execution_count": null,
   "id": "1c0c59c7-29e8-4b01-ad89-5d1096c4a2b1",
   "metadata": {},
   "outputs": [],
   "source": []
  },
  {
   "cell_type": "code",
   "execution_count": null,
   "id": "8493660b-62ed-4f8f-8cfe-4669b96d1e76",
   "metadata": {},
   "outputs": [],
   "source": []
  }
 ],
 "metadata": {
  "kernelspec": {
   "display_name": "Python 3 (ipykernel)",
   "language": "python",
   "name": "python3"
  },
  "language_info": {
   "codemirror_mode": {
    "name": "ipython",
    "version": 3
   },
   "file_extension": ".py",
   "mimetype": "text/x-python",
   "name": "python",
   "nbconvert_exporter": "python",
   "pygments_lexer": "ipython3",
   "version": "3.10.13"
  }
 },
 "nbformat": 4,
 "nbformat_minor": 5
}
