{
 "cells": [
  {
   "cell_type": "code",
   "execution_count": 4,
   "id": "4fd96a40-e150-40fd-b54a-b1d6d226141d",
   "metadata": {},
   "outputs": [
    {
     "name": "stdout",
     "output_type": "stream",
     "text": [
      " * Serving Flask app '__main__'\n",
      " * Debug mode: off\n"
     ]
    },
    {
     "name": "stderr",
     "output_type": "stream",
     "text": [
      "WARNING: This is a development server. Do not use it in a production deployment. Use a production WSGI server instead.\n",
      " * Running on all addresses (0.0.0.0)\n",
      " * Running on http://127.0.0.1:5005\n",
      " * Running on http://192.168.31.254:5005\n",
      "Press CTRL+C to quit\n",
      "192.168.31.254 - - [10/Sep/2024 19:13:28] \"GET / HTTP/1.1\" 404 -\n",
      "192.168.31.254 - - [10/Sep/2024 19:13:28] \"GET /favicon.ico HTTP/1.1\" 404 -\n",
      "127.0.0.1 - - [10/Sep/2024 19:13:34] \"GET / HTTP/1.1\" 404 -\n",
      "127.0.0.1 - - [10/Sep/2024 19:13:34] \"GET /favicon.ico HTTP/1.1\" 404 -\n",
      "127.0.0.1 - - [10/Sep/2024 19:13:39] \"GET / HTTP/1.1\" 404 -\n",
      "192.168.31.254 - - [10/Sep/2024 19:13:49] \"GET / HTTP/1.1\" 404 -\n",
      "192.168.31.254 - - [10/Sep/2024 19:19:04] \"GET / HTTP/1.1\" 404 -\n",
      "192.168.31.254 - - [10/Sep/2024 19:19:36] \"POST / HTTP/1.1\" 404 -\n"
     ]
    }
   ],
   "source": [
    "import os\n",
    "from flask import Flask, request, jsonify\n",
    "from tensorflow.keras import models\n",
    "from PIL import Image\n",
    "import numpy as np\n",
    "import threading\n",
    "\n",
    "# Load the model\n",
    "model = models.load_model(\"baseline.keras\")\n",
    "\n",
    "# Class names for CIFAR-10 dataset\n",
    "class_names = {\n",
    "    0: 'airplane',\n",
    "    1: 'automobile',\n",
    "    2: 'bird',\n",
    "    3: 'cat',\n",
    "    4: 'deer',\n",
    "    5: 'dog',\n",
    "    6: 'frog',\n",
    "    7: 'horse',\n",
    "    8: 'ship',\n",
    "    9: 'truck',\n",
    "}\n",
    "\n",
    "app = Flask(__name__)\n",
    "\n",
    "# Function to process the image and predict\n",
    "def predict_image(model, img):\n",
    "    img = img.convert(\"RGB\")\n",
    "    img = img.resize((32, 32))\n",
    "    data = np.asarray(img)\n",
    "    data = data / 255.0\n",
    "    probs = model.predict(np.array([data])[:1])\n",
    "\n",
    "    top_prob = probs.max()\n",
    "    top_pred = class_names[np.argmax(probs)]\n",
    "    \n",
    "    return top_prob, top_pred\n",
    "\n",
    "# Route for prediction\n",
    "@app.route('/predict', methods=['POST'])\n",
    "def predict():\n",
    "    if 'file' not in request.files:\n",
    "        return jsonify({\"error\": \"No file part\"}), 400\n",
    "\n",
    "    file = request.files['file']\n",
    "\n",
    "    if file.filename == '':\n",
    "        return jsonify({\"error\": \"No selected file\"}), 400\n",
    "\n",
    "    try:\n",
    "        # Open and process the image\n",
    "        image = Image.open(file)\n",
    "        prob, pred = predict_image(model, image)\n",
    "\n",
    "        # Return the prediction and probability\n",
    "        return jsonify({\n",
    "            \"prediction\": pred,\n",
    "            \"probability\": round(prob * 100, 2)\n",
    "        })\n",
    "    except Exception as e:\n",
    "        return jsonify({\"error\": str(e)}), 500\n",
    "\n",
    "# Run the app in a background thread\n",
    "def run_app():\n",
    "    app.run(host=\"0.0.0.0\", port=5005)\n",
    "\n",
    "# Start the Flask app in a separate thread\n",
    "if __name__ == \"__main__\":\n",
    "    thread = threading.Thread(target=run_app, daemon=True)\n",
    "    thread.start()\n"
   ]
  },
  {
   "cell_type": "code",
   "execution_count": null,
   "id": "162e2c15-b083-4743-8994-ae6224e10eca",
   "metadata": {},
   "outputs": [],
   "source": []
  },
  {
   "cell_type": "code",
   "execution_count": null,
   "id": "2ef1b46e-431b-42bb-b56e-8ed5cb842504",
   "metadata": {},
   "outputs": [],
   "source": []
  }
 ],
 "metadata": {
  "kernelspec": {
   "display_name": "Python 3 (ipykernel)",
   "language": "python",
   "name": "python3"
  },
  "language_info": {
   "codemirror_mode": {
    "name": "ipython",
    "version": 3
   },
   "file_extension": ".py",
   "mimetype": "text/x-python",
   "name": "python",
   "nbconvert_exporter": "python",
   "pygments_lexer": "ipython3",
   "version": "3.10.13"
  }
 },
 "nbformat": 4,
 "nbformat_minor": 5
}
